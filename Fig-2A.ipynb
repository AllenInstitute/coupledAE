{
 "cells": [
  {
   "cell_type": "code",
   "execution_count": 1,
   "metadata": {},
   "outputs": [],
   "source": [
    "import fnmatch\n",
    "import os\n",
    "import pprint\n",
    "import numpy as np\n",
    "import pandas as pd\n",
    "import scipy.io as sio\n",
    "import matplotlib.pyplot as plt\n",
    "import seaborn as sns\n",
    "from analysis_clustering_helpers import parse_dend, plot_htree, do_merges, \\\n",
    "                                        get_cvfold_extended, predict_leaf_gmm, get_cca_projections,get_cvfold"
   ]
  },
  {
   "cell_type": "markdown",
   "metadata": {},
   "source": [
    "**Dataset description**\n",
    "\n",
    "The patch-seq dataset analyzed in the manuscript consists of \n",
    " - `2945 x 1252` cells x genes matrix: Transcriptomic data\n",
    " - `4637 x 54` cells x sPCA features: Electrophysiological data\n",
    " \n",
    "Among these, `1518` cells were mapped to leaf nodes in the hierarchical tree. These are the cells considered as `paired` in this study."
   ]
  },
  {
   "cell_type": "code",
   "execution_count": 2,
   "metadata": {},
   "outputs": [],
   "source": [
    "cvsets_pth    = './data/results/patchseq/reconstructions/'\n",
    "metadata_file = './data/raw/PS_v2_beta_0-4.mat'\n",
    "htree_file    = './data/raw/dend_RData_Tree_20181220.csv'\n",
    "\n",
    "csval='1-0'\n",
    "matfile   = sio.loadmat(metadata_file,squeeze_me=True)\n",
    "file_list = sorted([file for file in os.listdir(cvsets_pth) if 'cs_'+csval+'_' in file])\n",
    "file_list = [file for file in file_list if '.mat' in file]\n",
    "\n",
    "_, _, treeobj, _, child, parent = parse_dend(htree_file)\n",
    "\n",
    "xx = treeobj['x'].values\n",
    "yy = treeobj['y'].values\n",
    "yy[np.isnan(yy)]=0\n",
    "isleaf = treeobj['leaf'].values==True \n",
    "col = treeobj['col'].values\n",
    "col[~isleaf]='#000000'"
   ]
  },
  {
   "cell_type": "code",
   "execution_count": 10,
   "metadata": {},
   "outputs": [
    {
     "data": {
      "text/plain": [
       "1"
      ]
     },
     "execution_count": 10,
     "metadata": {},
     "output_type": "execute_result"
    }
   ],
   "source": [
    "np.sum(treeobj['label']=='Meis2 Adamts19')"
   ]
  },
  {
   "cell_type": "code",
   "execution_count": 20,
   "metadata": {},
   "outputs": [
    {
     "data": {
      "image/png": "[encoded data removed]",
      "text/plain": [
       "<Figure size 504x504 with 1 Axes>"
      ]
     },
     "metadata": {},
     "output_type": "display_data"
    }
   ],
   "source": [
    "%matplotlib inline\n",
    "xx = treeobj['x'].values\n",
    "yy = treeobj['y'].values\n",
    "yy[np.isnan(yy)]=0\n",
    "isleaf = treeobj['leaf'].values==True \n",
    "col = treeobj['col'].values\n",
    "col[~isleaf]='#000000'\n",
    "\n",
    "sns.set_style(\"white\")\n",
    "fig=plt.figure(figsize=(7,7))\n",
    "\n",
    "for p in parent:\n",
    "    xp=xx[child==p]\n",
    "    yp=yy[child==p]\n",
    "    ch=child[parent==p]\n",
    "    for c in ch:\n",
    "        xc=xx[child==c]\n",
    "        yc=yy[child==c]\n",
    "        plt.plot([xc,xc],[-yc,-yp],color='#BBBBBB')\n",
    "        plt.plot([xc,xp],[-yp,-yp],color='#BBBBBB')\n",
    "\n",
    "totalcounts = 0\n",
    "for i,s in enumerate(child):\n",
    "    if col[i]!='#000000':\n",
    "        #plt.text(xx[i], yy[i], s,horizontalalignment='center',verticalalignment='top',rotation=90,color=col[i],fontsize=10)\n",
    "        totalcounts = totalcounts+np.sum(matfile['cluster']==s)\n",
    "\n",
    "count_list = []        \n",
    "for i,s in enumerate(child):\n",
    "    if col[i]!='#000000':\n",
    "        #plt.text(xx[i], yy[i], s,horizontalalignment='center',verticalalignment='top',rotation=90,color=col[i],fontsize=10)\n",
    "        counts = np.sum(matfile['cluster']==s)\n",
    "        count_list.append(counts)\n",
    "        plt.plot(xx[i], yy[i], '.',c=col[i],ms=5)\n",
    "        plt.bar(xx[i], height=2*counts/totalcounts, width=1, bottom=yy[i]+0.03, align='center', color=col[i])\n",
    "\n",
    "plt.tight_layout()\n",
    "fig.subplots_adjust(bottom=0.2)\n",
    "ax=plt.gca()\n",
    "ax.set_xticks([])\n",
    "ax.set_yticks([])\n",
    "ax.set_xlim([np.min(xx)-1,np.max(xx)+1])\n",
    "ax.set_ylim([-0.5,0.5])\n",
    "ax.axis('off')\n",
    "\n",
    "fig.savefig('/Users/fruity/Dropbox/AllenInstitute/CellTypes/doc/NeurIPS 2019/camready/Fig2A.pdf',\n",
    "               dpi=300, format='pdf', bbox_inches='tight')"
   ]
  },
  {
   "cell_type": "markdown",
   "metadata": {},
   "source": [
    "**Histograms with leaf node cell type names**"
   ]
  },
  {
   "cell_type": "code",
   "execution_count": null,
   "metadata": {},
   "outputs": [],
   "source": [
    "#For SfN plots:\n",
    "xx = treeobj['x'].values\n",
    "yy = treeobj['y'].values\n",
    "yy[np.isnan(yy)]=0\n",
    "isleaf = treeobj['leaf'].values==True \n",
    "col = treeobj['col'].values\n",
    "col[~isleaf]='#000000'\n",
    "\n",
    "sns.set_style(\"white\")\n",
    "fig=plt.figure(figsize=(12,9.5))\n",
    "\n",
    "for p in parent:\n",
    "    xp=xx[child==p]\n",
    "    yp=yy[child==p]\n",
    "    ch=child[parent==p]\n",
    "    for c in ch:\n",
    "        xc=xx[child==c]\n",
    "        yc=yy[child==c]\n",
    "        plt.plot([xc,xc],[-yc-0.5,-yp-0.5],color='#BBBBBB')\n",
    "        plt.plot([xc,xp],[-yp-0.5,-yp-0.5],color='#BBBBBB')\n",
    "\n",
    "totalcounts = 0\n",
    "for i,s in enumerate(child):\n",
    "    if col[i]!='#000000':\n",
    "        plt.text(xx[i], yy[i]-0.48, s,horizontalalignment='center',verticalalignment='bottom',rotation=90,color=col[i],fontsize=10)\n",
    "        totalcounts = totalcounts+np.sum(matfile['cluster']==s)\n",
    "\n",
    "count_list = []        \n",
    "for i,s in enumerate(child):\n",
    "    if col[i]!='#000000':\n",
    "        #plt.text(xx[i], yy[i], s,horizontalalignment='center',verticalalignment='top',rotation=90,color=col[i],fontsize=10)\n",
    "        counts = np.sum(matfile['cluster']==s)\n",
    "        count_list.append(counts)\n",
    "        plt.plot(xx[i], yy[i]-0.5, '.',c=col[i],ms=5)\n",
    "        plt.bar(xx[i], height=10*counts/totalcounts, width=1, bottom=yy[i]+0.03, align='center', color=col[i])\n",
    "\n",
    "plt.tight_layout()\n",
    "fig.subplots_adjust(bottom=0.2)\n",
    "ax=plt.gca()\n",
    "ax.set_xticks([])\n",
    "ax.set_yticks([])\n",
    "ax.set_xlim([np.min(xx)-1,np.max(xx)+1])\n",
    "ax.set_ylim([-1.5,.5])\n",
    "ax.axis('off')\n",
    "\n",
    "fig.savefig('/Users/fruity/Dropbox/AllenInstitute/CellTypes/doc/NeurIPS 2019/camready/FigS2.pdf',\n",
    "               dpi=300, format='pdf', bbox_inches='tight')"
   ]
  },
  {
   "cell_type": "code",
   "execution_count": null,
   "metadata": {},
   "outputs": [],
   "source": [
    "leaf = np.logical_and(matfile['cluster_color']!='#808080',matfile['T_ispaired']==1)\n",
    "leaf_names = matfile['cluster'][leaf]\n",
    "[val,counts_paired_leaf] = np.unique(leaf_names, return_counts=True)\n",
    "[val,counts_all_T] = np.unique(matfile['cluster'][matfile['cluster_color']!='#808080'], return_counts=True)\n",
    "\n",
    "print('n(types) in paired data: '+str(np.sum(counts_paired_leaf>0)))\n",
    "print('n(types) in paired data with > 6 samples: '+str(np.sum(counts_paired_leaf>6)))\n",
    "print('n(types) in all transcriptomic data: '+str(np.sum(counts_all_T>0)))"
   ]
  },
  {
   "cell_type": "code",
   "execution_count": 5,
   "metadata": {},
   "outputs": [],
   "source": []
  }
 ],
 "metadata": {
  "kernelspec": {
   "display_name": "Python 3",
   "language": "python",
   "name": "python3"
  },
  "language_info": {
   "codemirror_mode": {
    "name": "ipython",
    "version": 3
   },
   "file_extension": ".py",
   "mimetype": "text/x-python",
   "name": "python",
   "nbconvert_exporter": "python",
   "pygments_lexer": "ipython3",
   "version": "3.6.9"
  }
 },
 "nbformat": 4,
 "nbformat_minor": 2
}
